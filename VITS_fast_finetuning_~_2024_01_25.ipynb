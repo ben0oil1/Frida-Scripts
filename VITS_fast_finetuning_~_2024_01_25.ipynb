{
  "nbformat": 4,
  "nbformat_minor": 0,
  "metadata": {
    "colab": {
      "provenance": [],
      "private_outputs": true,
      "gpuType": "T4",
      "include_colab_link": true
    },
    "kernelspec": {
      "name": "python3",
      "display_name": "Python 3"
    },
    "language_info": {
      "name": "python"
    },
    "accelerator": "GPU"
  },
  "cells": [
    {
      "cell_type": "markdown",
      "metadata": {
        "id": "view-in-github",
        "colab_type": "text"
      },
      "source": [
        "<a href=\"https://colab.research.google.com/github/ben0oil1/Frida-Scripts/blob/master/VITS_fast_finetuning_~_2024_01_25.ipynb\" target=\"_parent\"><img src=\"https://colab.research.google.com/assets/colab-badge.svg\" alt=\"Open In Colab\"/></a>"
      ]
    },
    {
      "cell_type": "code",
      "source": [
        "# 查看GPU配置\n",
        "!nvidia-smi"
      ],
      "metadata": {
        "id": "03vVx0mDtuwN"
      },
      "execution_count": null,
      "outputs": []
    },
    {
      "cell_type": "code",
      "source": [
        "#@title STEP 1 安装运行环境\n",
        "#@markdown ## 安装运行环境\n",
        "\n",
        "!git clone https://github.com/Plachtaa/VITS-fast-fine-tuning.git\n",
        "!python -m pip install --upgrade --force-reinstall regex\n",
        "!python -m pip install --force-reinstall soundfile\n",
        "!python -m pip install --force-reinstall gradio\n",
        "!python -m pip install imageio==2.4.1\n",
        "!python -m pip install --upgrade youtube-dl\n",
        "!python -m pip install moviepy\n",
        "%cd VITS-fast-fine-tuning\n",
        "\n",
        "!python -m pip install --no-build-isolation -r requirements.txt\n",
        "!python -m pip install --upgrade numpy\n",
        "!python -m pip install --upgrade --force-reinstall numba\n",
        "!python -m pip install --upgrade Cython\n",
        "\n",
        "!python -m pip install --upgrade pyzmq\n",
        "!python -m pip install pydantic==1.10.4\n",
        "!python -m pip install ruamel.yaml\n",
        "!python -m pip install git+https://github.com/openai/whisper.git\n",
        "\n",
        "# build monotonic align\n",
        "%cd monotonic_align/\n",
        "!mkdir monotonic_align\n",
        "!python setup.py build_ext --inplace\n",
        "%cd ..\n",
        "!mkdir pretrained_models\n",
        "# download data for fine-tuning\n",
        "!wget https://huggingface.co/datasets/Plachta/sampled_audio4ft/resolve/main/sampled_audio4ft_v2.zip\n",
        "!unzip sampled_audio4ft_v2.zip\n",
        "# create necessary directories\n",
        "!mkdir video_data\n",
        "!mkdir raw_audio\n",
        "!mkdir denoised_audio\n",
        "!mkdir custom_character_voice\n",
        "!mkdir segmented_character_voice"
      ],
      "metadata": {
        "id": "-XEdEXyTHVfD"
      },
      "execution_count": null,
      "outputs": []
    },
    {
      "cell_type": "code",
      "source": [
        "#@title STEP 1.5 选择预训练模型\n",
        "#@markdown ###STEP 1.5 选择预训练模型\n",
        "\n",
        "!wget https://huggingface.co/datasets/Plachta/sampled_audio4ft/resolve/main/VITS-Chinese/D_0.pth -O ./pretrained_models/D_0.pth\n",
        "!wget https://huggingface.co/datasets/Plachta/sampled_audio4ft/resolve/main/VITS-Chinese/G_0.pth -O ./pretrained_models/G_0.pth\n",
        "!wget https://huggingface.co/datasets/Plachta/sampled_audio4ft/resolve/main/VITS-Chinese/config.json -O ./configs/finetune_speaker.json"
      ],
      "metadata": {
        "id": "2tzsb5mR6-d9"
      },
      "execution_count": null,
      "outputs": []
    },
    {
      "cell_type": "code",
      "source": [
        "#@title （可选）加载Google云端硬盘\n",
        "#@markdown 加载Google云端硬盘（更快地上传数据集文件）\n",
        "from google.colab import drive\n",
        "drive.mount('/content/drive')"
      ],
      "metadata": {
        "id": "j1Q43oXND7Ih"
      },
      "execution_count": null,
      "outputs": []
    },
    {
      "cell_type": "markdown",
      "source": [
        "## STEP 2 上传您的角色音频数据\n",
        "见[数据集上传选项](https://github.com/Plachtaa/VITS-fast-fine-tuning/blob/main/DATA.MD)  \n",
        "\n",
        "在这里我只保留了短音频压缩包和长音频文件的两种形式；\n",
        "\n",
        "上传方法上，一种是直接在这个界面上传，另外一种是通过Google drive上传，建议通过后者，方便数据集的复用。"
      ],
      "metadata": {
        "id": "Z5G1jozPFd6p"
      }
    },
    {
      "cell_type": "markdown",
      "source": [
        "###STEP 2.1 上传短音频"
      ],
      "metadata": {
        "id": "Wjpr__yCPp_J"
      }
    },
    {
      "cell_type": "code",
      "source": [
        "#@markdown 上传选项1：运行该代码块会出现一个文件上传的入口\n",
        "%run scripts/voice_upload.py --type zip\n",
        "!unzip ./custom_character_voice/custom_character_voice.zip -d ./custom_character_voice/"
      ],
      "metadata": {
        "id": "hmNHnpBL5sgF"
      },
      "execution_count": null,
      "outputs": []
    },
    {
      "cell_type": "code",
      "source": [
        "#@markdown 上传选项2：若您装载了Google云端硬盘，可以直接从Google云端硬盘加载文件。将`.zip`文件上传云端硬盘后，在下面填写文件路径：\n",
        "ZIP_PATH = \"../drive/MyDrive/samples.zip\"  #@param {type:\"string\"}\n",
        "!cp {ZIP_PATH} ./custom_character_voice/custom_character_voice.zip\n",
        "!unzip ./custom_character_voice/custom_character_voice.zip -d ./custom_character_voice/"
      ],
      "metadata": {
        "id": "YOfe2ercNLal"
      },
      "execution_count": null,
      "outputs": []
    },
    {
      "cell_type": "markdown",
      "source": [
        "### STEP 2.2 上传长音频 （单个不应长于20分钟）"
      ],
      "metadata": {
        "id": "FLGkhbvhP33f"
      }
    },
    {
      "cell_type": "code",
      "source": [
        "#@markdown 上传选项1：\n",
        "\n",
        "#@markdown 运行该代码块会出现一个文件上传的入口\n",
        "%run scripts/voice_upload.py --type audio"
      ],
      "metadata": {
        "id": "unvLB7zrQTVA"
      },
      "execution_count": null,
      "outputs": []
    },
    {
      "cell_type": "code",
      "source": [
        "#@markdown 上传选项2\n",
        "\n",
        "#@markdown 若您装载了Google云端硬盘，可以直接从Google云端硬盘加载文件。将所有长音频文件上传至云端硬盘的同一个文件夹下，在下面填写文件夹路径：\n",
        "AUDIO_FOLDER_PATH = \"../drive/MyDrive/long_audios/\"  #@param {type:\"string\"}\n",
        "!cp {AUDIO_FOLDER_PATH}/* ./raw_audio/"
      ],
      "metadata": {
        "id": "-GWXUozRTZsj"
      },
      "execution_count": null,
      "outputs": []
    },
    {
      "cell_type": "markdown",
      "source": [
        "## STEP 3 自动处理所有上传的数据"
      ],
      "metadata": {
        "id": "YQGC-JyAaD2D"
      }
    },
    {
      "cell_type": "code",
      "source": [
        "#@markdown 运行该单元格会对所有上传的数据进行自动去背景音&标注。\n",
        "\n",
        "#@markdown 由于需要调用Whisper和Demucs，**运行时间可能较长。**\n",
        "# 将所有视频（无论是上传的还是下载的，且必须是.mp4格式）抽取音频\n",
        "%run scripts/video2audio.py\n",
        "# 将所有音频（无论是上传的还是从视频抽取的，必须是.wav格式）去噪\n",
        "!python scripts/denoise_audio.py\n",
        "# 分割并标注长音频\n",
        "!python scripts/long_audio_transcribe.py --languages \"{PRETRAINED_MODEL}\" --whisper_size large-v2\n",
        "# 标注短音频\n",
        "!python scripts/short_audio_transcribe.py --languages \"{PRETRAINED_MODEL}\" --whisper_size large-v2\n",
        "# 底模采样率可能与辅助数据不同，需要重采样\n",
        "!python scripts/resample.py"
      ],
      "metadata": {
        "id": "aJOO7VsPQf3G"
      },
      "execution_count": null,
      "outputs": []
    },
    {
      "cell_type": "markdown",
      "source": [
        "**训练质量相关：**\n",
        "\n",
        "第一次训练建议勾选ADD_AUXILIARY"
      ],
      "metadata": {
        "id": "WY12Ien-BUE7"
      }
    },
    {
      "cell_type": "code",
      "source": [
        "#@markdown ##STEP 3.5\n",
        "#@markdown 运行该单元格会生成划分好训练/测试集的最终标注，以及配置文件\n",
        "\n",
        "#@markdown 选择是否加入辅助训练数据：\n",
        "ADD_AUXILIARY = False #@param {type:\"boolean\"}\n",
        "#@markdown 辅助训练数据是从预训练的大数据集抽样得到的，\n",
        "\n",
        "#@markdown 作用在于防止模型在标注不准确的数据上形成错误映射。\n",
        "\n",
        "\n",
        "#@markdown **以下情况请勾选：**\n",
        "\n",
        "#@markdown - 总样本少于100条\n",
        "#@markdown - 样本质量一般或较差\n",
        "#@markdown - 样本来自爬取的视频\n",
        "\n",
        "#@markdown **以下情况可以不勾选：**\n",
        "\n",
        "#@markdown - 总样本量很大\n",
        "#@markdown - 样本质量很高\n",
        "#@markdown - 希望加速训练\n",
        "#@markdown - 只有二次元角色\n",
        "\n",
        "# assert(not (ADD_AUXILIARY and PRETRAINED_MODEL != \"CJE\")), \"add auxiliary data is available only available for CJE model!\"\n",
        "if ADD_AUXILIARY:\n",
        "  %run preprocess_v2.py --add_auxiliary_data True --languages \"{PRETRAINED_MODEL}\"\n",
        "else:\n",
        "  %run preprocess_v2.py --languages \"{PRETRAINED_MODEL}\""
      ],
      "metadata": {
        "id": "G_IM97N2e6fk"
      },
      "execution_count": null,
      "outputs": []
    },
    {
      "cell_type": "markdown",
      "source": [
        "## STEP 4 开始训练"
      ],
      "metadata": {
        "id": "VA4hV2G_fyKz"
      }
    },
    {
      "cell_type": "code",
      "source": [
        "#@markdown #STEP 4 (>=20 min)\n",
        "#@markdown 开始微调模型。\n",
        "\n",
        "#@markdown 训练时长取决于你录入/上传的音频总数。\n",
        "\n",
        "#@markdown 根据声线和样本质量的不同，所需的训练`epochs`数也不同。\n",
        "\n",
        "#@markdown 你也可以在 `Tensorboard` 中预览合成效果，若效果满意可提前停止。\n",
        "import os\n",
        "os.environ['TENSORBOARD_BINARY'] = '/usr/local/bin/tensorboard'\n",
        "\n",
        "if os.path.exists(\"/content/drive/MyDrive/\"):\n",
        "  !python scripts/rearrange_speaker.py\n",
        "  !cp ./finetune_speaker.json ../drive/MyDrive/finetune_speaker.json\n",
        "  !cp ./moegoe_config.json ../drive/MyDrive/moegoe_config.json\n",
        "\n",
        "%reload_ext tensorboard\n",
        "%tensorboard --logdir \"./OUTPUT_MODEL\"\n",
        "Maximum_epochs = \"200\" #@param {type:\"string\"}\n",
        "#@markdown 继续之前的模型训练\n",
        "CONTINUE = True #@param {type:\"boolean\"}\n",
        "if CONTINUE:\n",
        "  !python finetune_speaker_v2.py -m \"./OUTPUT_MODEL\" --max_epochs \"{Maximum_epochs}\" --drop_speaker_embed False --cont True\n",
        "else:\n",
        "  !python finetune_speaker_v2.py -m \"./OUTPUT_MODEL\" --max_epochs \"{Maximum_epochs}\" --drop_speaker_embed True"
      ],
      "metadata": {
        "id": "4gmpTNtcW2Bt"
      },
      "execution_count": null,
      "outputs": []
    },
    {
      "cell_type": "code",
      "source": [
        "#@markdown ### 微调完成后，在这里尝试效果。\n",
        "#@markdown 运行后会输出一个public URL, 点击进入网页版UI以使用模型\n",
        "!cp ./configs/modified_finetune_speaker.json ./finetune_speaker.json\n",
        "!python VC_inference.py --model_dir ./OUTPUT_MODEL/G_latest.pth --share True"
      ],
      "metadata": {
        "id": "SIK2XgD_ckgV"
      },
      "execution_count": null,
      "outputs": []
    },
    {
      "cell_type": "markdown",
      "source": [
        "# STEP 5 下载模型\n",
        "## 本地部署方法请见[README](https://github.com/Plachtaa/VITS-fast-fine-tuning/blob/main/README_ZH.md)"
      ],
      "metadata": {
        "id": "MXYxSdt-m3YK"
      }
    },
    {
      "cell_type": "code",
      "source": [
        "#@markdown ### 下载选项1：\n",
        "#@markdown 运行该单元格，浏览器会自动下载模型和配置文件\n",
        "!python scripts/rearrange_speaker.py\n",
        "%run scripts/download_model.py"
      ],
      "metadata": {
        "id": "QcJQm6_ImD7o"
      },
      "execution_count": null,
      "outputs": []
    },
    {
      "cell_type": "code",
      "source": [
        "#@markdown ### 下载选项2：\n",
        "#@markdown 运行该单元格会将模型和配置文件保存到Google云端硬盘\n",
        "!python scripts/rearrange_speaker.py\n",
        "!cp ./G_latest.pth ../drive/MyDrive/G_latest.pth\n",
        "!cp ./finetune_speaker.json ../drive/MyDrive/finetune_speaker.json\n",
        "!cp ./moegoe_config.json ../drive/MyDrive/moegoe_config.json"
      ],
      "metadata": {
        "id": "k13JBTommkTj"
      },
      "execution_count": null,
      "outputs": []
    },
    {
      "cell_type": "code",
      "source": [
        "#@markdown ### 清空样本\n",
        "#@markdown 运行该单元格**会清空所有已上传的样本**，需要时可使用\n",
        "!rm -rf ./custom_character_voice/*\n",
        "!rm -rf ./video_data/*\n",
        "!rm -rf ./raw_audio/*\n",
        "!rm -rf ./denoised_audio/*\n",
        "!rm -rf ./segmented_character_voice/*\n",
        "!rm -rf long_character_anno.txt\n",
        "!rm -rf short_character_anno.txt"
      ],
      "metadata": {
        "id": "hU8LmJlUcF1z"
      },
      "execution_count": null,
      "outputs": []
    },
    {
      "cell_type": "code",
      "source": [
        "#@markdown ### 数据备份\n",
        "#@markdown 运行该单元格会将切片和标注复制到谷歌云端硬盘根目录下名为`voice_data`的文件夹下以用作其它用途\n",
        "!mkdir ../drive/MyDrive/voice_data/\n",
        "!cp -rf ./custom_character_voice/ ../drive/MyDrive/voice_data/custom_character_voice/\n",
        "!cp -rf ./segmented_character_voice/ ../drive/MyDrive/voice_data/segmented_character_voice/\n",
        "!cp long_character_anno.txt ../drive/MyDrive/voice_data/long_character_anno.txt\n",
        "!cp short_character_anno.txt ../drive/MyDrive/voice_data/short_character_anno.txt"
      ],
      "metadata": {
        "id": "ZHK6qw4wRF8T"
      },
      "execution_count": null,
      "outputs": []
    }
  ]
}